{
  "nbformat": 4,
  "nbformat_minor": 0,
  "metadata": {
    "colab": {
      "name": "K-Means-homework.ipynb",
      "provenance": [],
      "collapsed_sections": [],
      "include_colab_link": true
    },
    "kernelspec": {
      "name": "python3",
      "display_name": "Python 3"
    },
    "accelerator": "TPU"
  },
  "cells": [
    {
      "cell_type": "markdown",
      "metadata": {
        "id": "view-in-github",
        "colab_type": "text"
      },
      "source": [
        "<a href=\"https://colab.research.google.com/github/henrygas/unsupervised_learning/blob/master/K_Means_homework.ipynb\" target=\"_parent\"><img src=\"https://colab.research.google.com/assets/colab-badge.svg\" alt=\"Open In Colab\"/></a>"
      ]
    },
    {
      "cell_type": "markdown",
      "metadata": {
        "id": "Cp2h2qpxe4iW",
        "colab_type": "text"
      },
      "source": [
        "## 1. 装载Google云盘"
      ]
    },
    {
      "cell_type": "code",
      "metadata": {
        "id": "zJvnts3pe0s-",
        "colab_type": "code",
        "colab": {
          "base_uri": "https://localhost:8080/",
          "height": 127
        },
        "outputId": "5a0d9232-1d58-4475-ef05-72057c7ff55a"
      },
      "source": [
        "from google.colab import drive\n",
        "drive.mount(\"/content/drive\")"
      ],
      "execution_count": 3,
      "outputs": [
        {
          "output_type": "stream",
          "text": [
            "Go to this URL in a browser: https://accounts.google.com/o/oauth2/auth?client_id=947318989803-6bn6qk8qdgf4n4g3pfee6491hc0brc4i.apps.googleusercontent.com&redirect_uri=urn%3aietf%3awg%3aoauth%3a2.0%3aoob&response_type=code&scope=email%20https%3a%2f%2fwww.googleapis.com%2fauth%2fdocs.test%20https%3a%2f%2fwww.googleapis.com%2fauth%2fdrive%20https%3a%2f%2fwww.googleapis.com%2fauth%2fdrive.photos.readonly%20https%3a%2f%2fwww.googleapis.com%2fauth%2fpeopleapi.readonly\n",
            "\n",
            "Enter your authorization code:\n",
            "··········\n",
            "Mounted at /content/drive\n"
          ],
          "name": "stdout"
        }
      ]
    },
    {
      "cell_type": "markdown",
      "metadata": {
        "id": "_DVAFRVufMxP",
        "colab_type": "text"
      },
      "source": [
        "## 2. 切换当前工作目录"
      ]
    },
    {
      "cell_type": "code",
      "metadata": {
        "id": "bIxGBBA4fPwI",
        "colab_type": "code",
        "colab": {}
      },
      "source": [
        "import os\n",
        "os.chdir(\"./drive/My Drive/app/K-means-homework\")"
      ],
      "execution_count": 0,
      "outputs": []
    },
    {
      "cell_type": "code",
      "metadata": {
        "id": "82NcxJ2IfjM9",
        "colab_type": "code",
        "colab": {
          "base_uri": "https://localhost:8080/",
          "height": 35
        },
        "outputId": "c1dde7fa-c89f-48a9-e47c-dd1d4517fdc5"
      },
      "source": [
        "!ls"
      ],
      "execution_count": 5,
      "outputs": [
        {
          "output_type": "stream",
          "text": [
            "data  out\n"
          ],
          "name": "stdout"
        }
      ]
    },
    {
      "cell_type": "markdown",
      "metadata": {
        "id": "hhHeevZqfleM",
        "colab_type": "text"
      },
      "source": [
        "## 3. 读取数据，查看数据内容"
      ]
    },
    {
      "cell_type": "code",
      "metadata": {
        "id": "nWAYOxBqfpOA",
        "colab_type": "code",
        "colab": {
          "base_uri": "https://localhost:8080/",
          "height": 204
        },
        "outputId": "41079090-1e59-4925-fed3-301d5f093365"
      },
      "source": [
        "import pandas as pd\n",
        "\n",
        "data_path = \"./data/training.csv\"\n",
        "data = pd.read_csv(data_path, names=[\"target\", \"intro\"])\n",
        "data.head()"
      ],
      "execution_count": 6,
      "outputs": [
        {
          "output_type": "execute_result",
          "data": {
            "text/html": [
              "<div>\n",
              "<style scoped>\n",
              "    .dataframe tbody tr th:only-of-type {\n",
              "        vertical-align: middle;\n",
              "    }\n",
              "\n",
              "    .dataframe tbody tr th {\n",
              "        vertical-align: top;\n",
              "    }\n",
              "\n",
              "    .dataframe thead th {\n",
              "        text-align: right;\n",
              "    }\n",
              "</style>\n",
              "<table border=\"1\" class=\"dataframe\">\n",
              "  <thead>\n",
              "    <tr style=\"text-align: right;\">\n",
              "      <th></th>\n",
              "      <th>target</th>\n",
              "      <th>intro</th>\n",
              "    </tr>\n",
              "  </thead>\n",
              "  <tbody>\n",
              "    <tr>\n",
              "      <th>0</th>\n",
              "      <td>2</td>\n",
              "      <td>合晟资产是一家专注于股票、债券等二级市场投资，为合格投资者提供专业资产管理服务的企业。公司业...</td>\n",
              "    </tr>\n",
              "    <tr>\n",
              "      <th>1</th>\n",
              "      <td>2</td>\n",
              "      <td>公司的主营业务为向中小微企业、个体工商户、农户等客户提供贷款服务，自设立以来主营业务未发生过变化。</td>\n",
              "    </tr>\n",
              "    <tr>\n",
              "      <th>2</th>\n",
              "      <td>1</td>\n",
              "      <td>公司立足于商业地产服务，致力于为商业地产开发、销售、运营全产业链提供一整套增值服务，业务覆盖...</td>\n",
              "    </tr>\n",
              "    <tr>\n",
              "      <th>3</th>\n",
              "      <td>2</td>\n",
              "      <td>公司经工商管理部门核准的经营范围为“投资咨询、经济信息咨询，企业管理咨询，品牌推广策划，公共...</td>\n",
              "    </tr>\n",
              "    <tr>\n",
              "      <th>4</th>\n",
              "      <td>2</td>\n",
              "      <td>该公司的主营业务为在中国境内(港、澳、台除外)开展保险代理销售，依托于自身的产品研究能力和专...</td>\n",
              "    </tr>\n",
              "  </tbody>\n",
              "</table>\n",
              "</div>"
            ],
            "text/plain": [
              "   target                                              intro\n",
              "0       2  合晟资产是一家专注于股票、债券等二级市场投资，为合格投资者提供专业资产管理服务的企业。公司业...\n",
              "1       2  公司的主营业务为向中小微企业、个体工商户、农户等客户提供贷款服务，自设立以来主营业务未发生过变化。\n",
              "2       1  公司立足于商业地产服务，致力于为商业地产开发、销售、运营全产业链提供一整套增值服务，业务覆盖...\n",
              "3       2  公司经工商管理部门核准的经营范围为“投资咨询、经济信息咨询，企业管理咨询，品牌推广策划，公共...\n",
              "4       2  该公司的主营业务为在中国境内(港、澳、台除外)开展保险代理销售，依托于自身的产品研究能力和专..."
            ]
          },
          "metadata": {
            "tags": []
          },
          "execution_count": 6
        }
      ]
    },
    {
      "cell_type": "code",
      "metadata": {
        "id": "MDtjEI0hDWzC",
        "colab_type": "code",
        "colab": {
          "base_uri": "https://localhost:8080/",
          "height": 35
        },
        "outputId": "db6f7dbc-2b40-4b55-9fc4-2c037c15ac3b"
      },
      "source": [
        "data.shape"
      ],
      "execution_count": 92,
      "outputs": [
        {
          "output_type": "execute_result",
          "data": {
            "text/plain": [
              "(4774, 2)"
            ]
          },
          "metadata": {
            "tags": []
          },
          "execution_count": 92
        }
      ]
    },
    {
      "cell_type": "markdown",
      "metadata": {
        "id": "2IYngsjDgxEF",
        "colab_type": "text"
      },
      "source": [
        "## 4. 抽取文本特征"
      ]
    },
    {
      "cell_type": "markdown",
      "metadata": {
        "id": "wD1RjrC7g1BP",
        "colab_type": "text"
      },
      "source": [
        "### 4.1 利用jieba分词组件对文本进行分词，并对分词结果去除停用词"
      ]
    },
    {
      "cell_type": "code",
      "metadata": {
        "id": "lKe5KRS9hETv",
        "colab_type": "code",
        "colab": {}
      },
      "source": [
        "import jieba\n",
        "import chardet\n",
        "\n",
        "stopwords_file = \"./data/stopwords.txt\"\n",
        "jieba_result_file = \"./out/jieba_result.txt\"\n",
        "\n",
        "stop_words = set()\n",
        "with open(stopwords_file, encoding=\"gbk\") as fr:\n",
        "  stop_words = set([line.strip() for line in fr.readlines()])\n",
        "\n",
        "with open(jieba_result_file, \"w\") as fw:\n",
        "  for intro in data[\"intro\"].values:\n",
        "    fw.write(\"/\".join(filter(lambda x : x not in stop_words, jieba.cut(intro))))\n",
        "    fw.write(\"\\n\")\n"
      ],
      "execution_count": 0,
      "outputs": []
    },
    {
      "cell_type": "markdown",
      "metadata": {
        "id": "s3LbE85G5Wq8",
        "colab_type": "text"
      },
      "source": [
        "### 4.2 采用词袋和TF-IDF相结合，抽取文本特征"
      ]
    },
    {
      "cell_type": "markdown",
      "metadata": {
        "id": "C0-VJApV5-JH",
        "colab_type": "text"
      },
      "source": [
        "TF-IDF的作用是找出某些词用以提取该词所在文档的特色，而词袋模型的作用是找出文档中出现频率高的词；\n",
        "\n",
        "而有特色的词，既有可能是有意义的专业词，又有可能是无意义的生僻词，可以考虑将两者结合起来，具体步骤是:\n",
        "\n",
        "+ 通过词袋模型挑出一堆热词;\n",
        "+ 再用TF-IDF对这些热词加权，得到有区分度的词。\n",
        "\n",
        "\n",
        "这样就可以通过控制热词数，来将无意义的常用词和有意义的专业词都框进来；\n",
        "\n",
        "然后再通过加权技术，排除掉无意义的常用词，争取留下有意义的专业词。"
      ]
    },
    {
      "cell_type": "code",
      "metadata": {
        "id": "WcXxV2uk5-85",
        "colab_type": "code",
        "colab": {
          "base_uri": "https://localhost:8080/",
          "height": 197
        },
        "outputId": "7fe6caca-cb3a-462a-d9ed-5bb08a3205df"
      },
      "source": [
        "from sklearn.feature_extraction.text import TfidfVectorizer\n",
        "import pandas as pd\n",
        "import numpy as np\n",
        "\n",
        "with open(jieba_result_file, \"r\") as fr:\n",
        "  content = np.array([line.strip() for line in fr.readlines()])\n",
        "\n",
        "tfidf_vec = TfidfVectorizer(min_df=5, max_df=60, token_pattern=r\"(?u)\\b\\w\\w+\\b\")\n",
        "X_tfidf = tfidf_vec.fit_transform(content)\n",
        "\n",
        "list(tfidf_vec.vocabulary_.items())[:10]"
      ],
      "execution_count": 93,
      "outputs": [
        {
          "output_type": "execute_result",
          "data": {
            "text/plain": [
              "[('股票', 4222),\n",
              " ('债券', 1015),\n",
              " ('二级', 715),\n",
              " ('合格', 1650),\n",
              " ('投资者', 2615),\n",
              " ('顾问', 5001),\n",
              " ('私募', 3827),\n",
              " ('基金', 1867),\n",
              " ('证券', 4466),\n",
              " ('总资产', 2480)]"
            ]
          },
          "metadata": {
            "tags": []
          },
          "execution_count": 93
        }
      ]
    },
    {
      "cell_type": "code",
      "metadata": {
        "id": "zDXnMypADQ0K",
        "colab_type": "code",
        "colab": {
          "base_uri": "https://localhost:8080/",
          "height": 35
        },
        "outputId": "46179259-25a5-4455-9381-65fbeccc7f96"
      },
      "source": [
        "X_tfidf.shape"
      ],
      "execution_count": 94,
      "outputs": [
        {
          "output_type": "execute_result",
          "data": {
            "text/plain": [
              "(4774, 5147)"
            ]
          },
          "metadata": {
            "tags": []
          },
          "execution_count": 94
        }
      ]
    },
    {
      "cell_type": "markdown",
      "metadata": {
        "id": "XLSS7sE38xa5",
        "colab_type": "text"
      },
      "source": [
        "## 5. 对文本特征进行K-means聚类分析"
      ]
    },
    {
      "cell_type": "markdown",
      "metadata": {
        "id": "OsdB9toxftTq",
        "colab_type": "text"
      },
      "source": [
        "### 5.1 选择轮廓系数作为评价指标，分别计算聚类数K=5,10,15,...,50时的轮廓系数均值，画出轮廓系数均值随K变化的曲线。"
      ]
    },
    {
      "cell_type": "code",
      "metadata": {
        "id": "TflyxWDn82Ti",
        "colab_type": "code",
        "colab": {
          "base_uri": "https://localhost:8080/",
          "height": 359
        },
        "outputId": "e1527bcb-4c01-4f9b-b2db-6b302aee3296"
      },
      "source": [
        "from sklearn.cluster import KMeans\n",
        "from sklearn.metrics import silhouette_score\n",
        "import numpy as np\n",
        "import time\n",
        "from functools import wraps\n",
        "\n",
        "def log(name=None):\n",
        "  def _wrapper(func):\n",
        "    @wraps(func)\n",
        "    def _log(*args, **xargs):\n",
        "      time_start = time.time()\n",
        "      print(\"starting to {}\".format(name))\n",
        "      rtn = func(*args, **xargs)\n",
        "      print(\"end to {}, cost time {:.4f}秒\".format(name, time.time() - time_start))\n",
        "\n",
        "      return rtn\n",
        "\n",
        "    return _log\n",
        "  \n",
        "  return _wrapper\n",
        "\n",
        "@log(name=\"kmeans\")\n",
        "def kmeans(n_clusters, input):\n",
        "  estimator = KMeans(n_clusters=n_clusters, init=\"k-means++\", n_init=10, max_iter=300, precompute_distances=\"auto\")\n",
        "  y = estimator.fit_predict(input)\n",
        "\n",
        "  return y, estimator\n",
        "\n",
        "@log(name=\"get_silhouette_score\")\n",
        "def get_silhouette_score(input, y):\n",
        "  return silhouette_score(input, y, metric=\"euclidean\")\n",
        "\n",
        "estimators = list()\n",
        "for k in range(5, 55, 20):\n",
        "  print(\"\\ntrying k={}\".format(k))\n",
        "  y, estimator = kmeans(k, X_tfidf)\n",
        "\n",
        "  each_sse_score = estimator.inertia_\n",
        "  each_silhouette_score = get_silhouette_score(X_tfidf, y)\n",
        "  estimators.append([estimator, each_sse_score, each_silhouette_score, y])\n",
        "\n",
        "print(\"Over!\")"
      ],
      "execution_count": 95,
      "outputs": [
        {
          "output_type": "stream",
          "text": [
            "\n",
            "trying k=5\n",
            "starting to kmeans\n",
            "end to kmeans, cost time 37.2731秒\n",
            "starting to get_silhouette_score\n",
            "end to get_silhouette_score, cost time 0.3659秒\n",
            "\n",
            "trying k=25\n",
            "starting to kmeans\n",
            "end to kmeans, cost time 39.1635秒\n",
            "starting to get_silhouette_score\n",
            "end to get_silhouette_score, cost time 0.3306秒\n",
            "\n",
            "trying k=45\n",
            "starting to kmeans\n",
            "end to kmeans, cost time 23.2200秒\n",
            "starting to get_silhouette_score\n",
            "end to get_silhouette_score, cost time 0.3857秒\n",
            "Over!\n"
          ],
          "name": "stdout"
        }
      ]
    },
    {
      "cell_type": "code",
      "metadata": {
        "id": "MwDWDAaeW7lW",
        "colab_type": "code",
        "colab": {
          "base_uri": "https://localhost:8080/",
          "height": 280
        },
        "outputId": "e52995ad-12ac-4521-cf24-3a15bd6b545f"
      },
      "source": [
        "import seaborn as sns\n",
        "import matplotlib.pyplot as plt\n",
        "\n",
        "x_range = list(range(5, 55, 20))\n",
        "y_range = np.array(estimators)[:, 2]\n",
        "\n",
        "sns.barplot(x=x_range, y=y_range)\n",
        "plt.xlabel(\"n_clusters\")\n",
        "plt.ylabel(\"mean silhouette score\")\n",
        "plt.show()"
      ],
      "execution_count": 96,
      "outputs": [
        {
          "output_type": "display_data",
          "data": {
            "image/png": "[encoded data removed]",
            "text/plain": [
              "<Figure size 432x288 with 1 Axes>"
            ]
          },
          "metadata": {
            "tags": []
          }
        }
      ]
    },
    {
      "cell_type": "code",
      "metadata": {
        "id": "agk36Lqx_w0l",
        "colab_type": "code",
        "colab": {
          "base_uri": "https://localhost:8080/",
          "height": 280
        },
        "outputId": "08d9a32c-74a2-4adc-cbf8-620bee6e8963"
      },
      "source": [
        "y_range = np.array(estimators)[:, 1]\n",
        "\n",
        "sns.barplot(x=x_range, y=y_range)\n",
        "plt.xlabel(\"n_clusters\")\n",
        "plt.ylabel(\"sse\")\n",
        "plt.show()"
      ],
      "execution_count": 97,
      "outputs": [
        {
          "output_type": "display_data",
          "data": {
            "image/png": "[encoded data removed]",
            "text/plain": [
              "<Figure size 432x288 with 1 Axes>"
            ]
          },
          "metadata": {
            "tags": []
          }
        }
      ]
    },
    {
      "cell_type": "markdown",
      "metadata": {
        "id": "qh7sDl6FM6Eg",
        "colab_type": "text"
      },
      "source": [
        "在30,35,45,50之间，选择聚类结果的各类别轮廓系数方差最小的那一个"
      ]
    },
    {
      "cell_type": "code",
      "metadata": {
        "id": "BNhiT_IkM2qH",
        "colab_type": "code",
        "colab": {
          "base_uri": "https://localhost:8080/",
          "height": 197
        },
        "outputId": "0217ad46-e3c9-4797-f3b5-fda882bfb20b"
      },
      "source": [
        "score_array_ordered = np.sort(score_array, axis=1).\n",
        "print(score_array_ordered)"
      ],
      "execution_count": 38,
      "outputs": [
        {
          "output_type": "stream",
          "text": [
            "[[8.28148227e-03 5.00000000e+00]\n",
            " [1.11584371e-02 1.00000000e+01]\n",
            " [1.17821433e-02 1.50000000e+01]\n",
            " [1.19037323e-02 2.00000000e+01]\n",
            " [1.13194098e-02 2.50000000e+01]\n",
            " [1.30793489e-02 3.00000000e+01]\n",
            " [1.38934461e-02 3.50000000e+01]\n",
            " [1.28545252e-02 4.00000000e+01]\n",
            " [1.44482656e-02 4.50000000e+01]\n",
            " [1.51961546e-02 5.00000000e+01]]\n"
          ],
          "name": "stdout"
        }
      ]
    },
    {
      "cell_type": "markdown",
      "metadata": {
        "id": "P2ZHzyW2JDKf",
        "colab_type": "text"
      },
      "source": [
        "### 5.2 选择CH索引作为评价指标，分别计算聚类数K=5,10,15,...,50时的CH索引均值，画出CH索引均值随K变化的曲线。"
      ]
    },
    {
      "cell_type": "code",
      "metadata": {
        "id": "-n_-NYSiJZFe",
        "colab_type": "code",
        "colab": {}
      },
      "source": [
        ""
      ],
      "execution_count": 0,
      "outputs": []
    }
  ]
}